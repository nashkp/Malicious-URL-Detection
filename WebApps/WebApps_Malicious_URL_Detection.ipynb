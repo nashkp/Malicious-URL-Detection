{
  "nbformat": 4,
  "nbformat_minor": 0,
  "metadata": {
    "colab": {
      "provenance": []
    },
    "kernelspec": {
      "name": "python3",
      "display_name": "Python 3"
    },
    "language_info": {
      "name": "python"
    }
  },
  "cells": [
    {
      "cell_type": "markdown",
      "source": [
        "## Download Required Module"
      ],
      "metadata": {
        "id": "AVboU3I92vhX"
      }
    },
    {
      "cell_type": "code",
      "execution_count": 1,
      "metadata": {
        "colab": {
          "base_uri": "https://localhost:8080/"
        },
        "id": "fRtYA3gB2suh",
        "outputId": "855c353d-c749-4041-b020-e27d4721ab94"
      },
      "outputs": [
        {
          "output_type": "stream",
          "name": "stdout",
          "text": [
            "--2023-11-20 08:32:04--  https://raw.githubusercontent.com/nashkp/Malicious-URL-Detection/main/WebApps/nasj_modul.py\n",
            "Resolving raw.githubusercontent.com (raw.githubusercontent.com)... 185.199.108.133, 185.199.109.133, 185.199.110.133, ...\n",
            "Connecting to raw.githubusercontent.com (raw.githubusercontent.com)|185.199.108.133|:443... connected.\n",
            "HTTP request sent, awaiting response... 200 OK\n",
            "Length: 6787 (6.6K) [text/plain]\n",
            "Saving to: ‘nasj_modul.py’\n",
            "\n",
            "\rnasj_modul.py         0%[                    ]       0  --.-KB/s               \rnasj_modul.py       100%[===================>]   6.63K  --.-KB/s    in 0s      \n",
            "\n",
            "2023-11-20 08:32:04 (84.2 MB/s) - ‘nasj_modul.py’ saved [6787/6787]\n",
            "\n"
          ]
        }
      ],
      "source": [
        "! wget https://raw.githubusercontent.com/nashkp/Malicious-URL-Detection/main/WebApps/nasj_modul.py"
      ]
    },
    {
      "cell_type": "markdown",
      "source": [
        "## Download Model"
      ],
      "metadata": {
        "id": "r_qZAsyS3AG4"
      }
    },
    {
      "cell_type": "code",
      "source": [
        "! wget https://github.com/nashkp/Malicious-URL-Detection/raw/main/prototype/model_02_e50.json"
      ],
      "metadata": {
        "colab": {
          "base_uri": "https://localhost:8080/"
        },
        "id": "-cTaXbDD26cP",
        "outputId": "d7864c26-4fa6-44da-9389-6fbf42a0cc1f"
      },
      "execution_count": 2,
      "outputs": [
        {
          "output_type": "stream",
          "name": "stdout",
          "text": [
            "--2023-11-20 08:32:52--  https://github.com/nashkp/Malicious-URL-Detection/raw/main/prototype/model_02_e50.json\n",
            "Resolving github.com (github.com)... 140.82.112.3\n",
            "Connecting to github.com (github.com)|140.82.112.3|:443... connected.\n",
            "HTTP request sent, awaiting response... 302 Found\n",
            "Location: https://raw.githubusercontent.com/nashkp/Malicious-URL-Detection/main/prototype/model_02_e50.json [following]\n",
            "--2023-11-20 08:32:52--  https://raw.githubusercontent.com/nashkp/Malicious-URL-Detection/main/prototype/model_02_e50.json\n",
            "Resolving raw.githubusercontent.com (raw.githubusercontent.com)... 185.199.108.133, 185.199.109.133, 185.199.111.133, ...\n",
            "Connecting to raw.githubusercontent.com (raw.githubusercontent.com)|185.199.108.133|:443... connected.\n",
            "HTTP request sent, awaiting response... 200 OK\n",
            "Length: 2681 (2.6K) [text/plain]\n",
            "Saving to: ‘model_02_e50.json’\n",
            "\n",
            "model_02_e50.json   100%[===================>]   2.62K  --.-KB/s    in 0s      \n",
            "\n",
            "2023-11-20 08:32:52 (51.5 MB/s) - ‘model_02_e50.json’ saved [2681/2681]\n",
            "\n"
          ]
        }
      ]
    },
    {
      "cell_type": "code",
      "source": [
        "! wget https://github.com/nashkp/Malicious-URL-Detection/raw/main/prototype/model_02_e50.h5"
      ],
      "metadata": {
        "colab": {
          "base_uri": "https://localhost:8080/"
        },
        "id": "AZ2DsosC3GR2",
        "outputId": "e71ed091-25ff-4e79-fec5-a3f8f8bcd650"
      },
      "execution_count": 3,
      "outputs": [
        {
          "output_type": "stream",
          "name": "stdout",
          "text": [
            "--2023-11-20 08:33:04--  https://github.com/nashkp/Malicious-URL-Detection/raw/main/prototype/model_02_e50.h5\n",
            "Resolving github.com (github.com)... 140.82.112.4\n",
            "Connecting to github.com (github.com)|140.82.112.4|:443... connected.\n",
            "HTTP request sent, awaiting response... 302 Found\n",
            "Location: https://raw.githubusercontent.com/nashkp/Malicious-URL-Detection/main/prototype/model_02_e50.h5 [following]\n",
            "--2023-11-20 08:33:04--  https://raw.githubusercontent.com/nashkp/Malicious-URL-Detection/main/prototype/model_02_e50.h5\n",
            "Resolving raw.githubusercontent.com (raw.githubusercontent.com)... 185.199.108.133, 185.199.109.133, 185.199.110.133, ...\n",
            "Connecting to raw.githubusercontent.com (raw.githubusercontent.com)|185.199.108.133|:443... connected.\n",
            "HTTP request sent, awaiting response... 200 OK\n",
            "Length: 20016 (20K) [application/octet-stream]\n",
            "Saving to: ‘model_02_e50.h5’\n",
            "\n",
            "model_02_e50.h5     100%[===================>]  19.55K  --.-KB/s    in 0s      \n",
            "\n",
            "2023-11-20 08:33:04 (39.5 MB/s) - ‘model_02_e50.h5’ saved [20016/20016]\n",
            "\n"
          ]
        }
      ]
    },
    {
      "cell_type": "markdown",
      "source": [
        "## Main Code"
      ],
      "metadata": {
        "id": "jVbwo5-n3LAh"
      }
    },
    {
      "cell_type": "code",
      "source": [
        "from nasj_modul import GetFeatures, predict_url, LoadModel"
      ],
      "metadata": {
        "id": "WjL8IbfA3JKo"
      },
      "execution_count": 4,
      "outputs": []
    },
    {
      "cell_type": "code",
      "source": [
        "model = LoadModel(\"model_02_e50\")"
      ],
      "metadata": {
        "colab": {
          "base_uri": "https://localhost:8080/"
        },
        "id": "jvUXwz053S6R",
        "outputId": "310c0dd0-e753-44b3-fcd7-dcb9bdfdd3f6"
      },
      "execution_count": 5,
      "outputs": [
        {
          "output_type": "stream",
          "name": "stdout",
          "text": [
            "model used: model_02_e50\n"
          ]
        }
      ]
    },
    {
      "cell_type": "markdown",
      "source": [
        "This URL will be predicted as benign"
      ],
      "metadata": {
        "id": "2i6mqQ-T3b3d"
      }
    },
    {
      "cell_type": "code",
      "source": [
        "p = predict_url(\"mp3raid.com/music/krizz_kaliko.html\", model)"
      ],
      "metadata": {
        "colab": {
          "base_uri": "https://localhost:8080/"
        },
        "id": "FFknkbnj3TTJ",
        "outputId": "951b9884-bb20-466a-87b1-7190f0e7210f"
      },
      "execution_count": 6,
      "outputs": [
        {
          "output_type": "stream",
          "name": "stdout",
          "text": [
            "1/1 [==============================] - 0s 193ms/step\n",
            "Prediction\n",
            "benign: 0.764\n",
            "defacement: 0.001\n",
            "phishing: 0.009\n",
            "malware: 0.225\n"
          ]
        }
      ]
    },
    {
      "cell_type": "code",
      "source": [],
      "metadata": {
        "id": "4AoT2_LO3jvJ"
      },
      "execution_count": null,
      "outputs": []
    },
    {
      "cell_type": "markdown",
      "source": [
        "This URL will be predicted as defacement"
      ],
      "metadata": {
        "id": "04cxWNwy3kOp"
      }
    },
    {
      "cell_type": "code",
      "source": [
        "p = predict_url('http://www.garage-pirenne.be/index.php?option=', model)"
      ],
      "metadata": {
        "colab": {
          "base_uri": "https://localhost:8080/"
        },
        "id": "LNjMjY_O3Wgw",
        "outputId": "7844b329-777a-460b-ca6a-c8e482335880"
      },
      "execution_count": 7,
      "outputs": [
        {
          "output_type": "stream",
          "name": "stdout",
          "text": [
            "1/1 [==============================] - 0s 14ms/step\n",
            "Prediction\n",
            "benign: 0.005\n",
            "defacement: 0.589\n",
            "phishing: 0.245\n",
            "malware: 0.160\n"
          ]
        }
      ]
    }
  ]
}